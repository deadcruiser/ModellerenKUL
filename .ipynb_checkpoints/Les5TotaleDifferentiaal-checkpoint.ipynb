{
 "cells": [
  {
   "cell_type": "markdown",
   "metadata": {},
   "source": [
    "# De totale differentiaal"
   ]
  },
  {
   "cell_type": "markdown",
   "metadata": {},
   "source": [
    "## De afgeleide"
   ]
  },
  {
   "cell_type": "markdown",
   "metadata": {},
   "source": [
    "In [Les 1](./Les1.ipynb) hebben we gezien dat de afgeleide van een functie $f(x)$ naar $x$ wordt gedefinieerd als\n",
    "    $$\n",
    "    \\dfrac{d f}{d x} \\equiv \\lim_{\\epsilon \\rightarrow 0}\\dfrac{f(x+\\epsilon)-f(x)}{\\epsilon},\n",
    "    $$\n",
    "  \n",
    "en hebben we aangetoond dat de afgeleide van de $n$-de graad polynoom \n",
    "$$f(x)= a_n x^n + a_{n-1} x^{n-1} + \\dots + a_1 x + a_0,$$\n",
    "\n",
    "gegeven wordt door\n",
    "\n",
    "$$\n",
    "\\dfrac{d f}{d x} = a_n n x^{n-1} + a_{n-1} (n-1) x^{n-2} + \\dots + a_1.\n",
    "$$\n",
    "    "
   ]
  },
  {
   "cell_type": "markdown",
   "metadata": {},
   "source": [
    "#### Opgave"
   ]
  },
  {
   "cell_type": "markdown",
   "metadata": {},
   "source": [
    "Beschouwen we nu de functie $f(x)=x^2$. Bereken de afgeleide van $f(x)$ naar $x$. Wat is de waarde van deze afgeleide in $x=1$?"
   ]
  },
  {
   "cell_type": "markdown",
   "metadata": {},
   "source": [
    "De afgeleide van deze functie wordt gegeven door $\\dfrac{d f}{d x}=2 x$. Wanneer we de afgeleide evalueren bij $x=1$, vinden we $\\dfrac{d f }{d x}\\bigg\\rvert_{x=1} = 2$."
   ]
  },
  {
   "cell_type": "markdown",
   "metadata": {},
   "source": [
    "De afgeleide van een functie $f(x)$, geëvalueerd in een punt $x=a$, gegeven door $\\dfrac{df}{dx}\\bigg\\rvert_{x=a}$, is gelijk aan de richtingscoëfficiënt van de raaklijn aan de functie $f(x)$ in het punt $x=a$. Dit wordt geïllustreerd in onderstaande animatie."
   ]
  },
  {
   "cell_type": "code",
   "execution_count": 1,
   "metadata": {
    "jupyter": {
     "source_hidden": true
    }
   },
   "outputs": [],
   "source": [
    "# General Purpose\n",
    "import numpy as np\n",
    "from matplotlib import pyplot as plt\n",
    "from scipy.integrate import odeint\n",
    "\n",
    "# Jupyter Specifics\n",
    "from IPython.display import HTML\n",
    "from ipywidgets.widgets import interact, IntSlider, FloatSlider, Layout\n",
    "\n",
    "%matplotlib inline\n",
    "\n",
    "style = {'description_width': '150px'}\n",
    "slider_layout = Layout(width='99%')"
   ]
  },
  {
   "cell_type": "code",
   "execution_count": 2,
   "metadata": {
    "jupyter": {
     "source_hidden": true
    }
   },
   "outputs": [
    {
     "data": {
      "application/vnd.jupyter.widget-view+json": {
       "model_id": "3053cfdad4c5481897ed3665f8c86ce8",
       "version_major": 2,
       "version_minor": 0
      },
      "text/plain": [
       "interactive(children=(FloatSlider(value=1.0, description='x', layout=Layout(width='99%'), max=2.0, min=-2.0, s…"
      ]
     },
     "metadata": {},
     "output_type": "display_data"
    }
   ],
   "source": [
    "def afgeleide(xp):\n",
    "\n",
    "    def f(x):\n",
    "        return x**2\n",
    "    def dfdx(x):\n",
    "        return 2*x\n",
    "    def raaklijn(x):\n",
    "        return dfdx(xp)*(x-xp)+f(xp)\n",
    "    x = np.linspace(-2,2,100)\n",
    "    plt.figure(figsize=(10,7))\n",
    "    plt.subplot(111)\n",
    "    plt.plot(x, f(x), 'k',label='$f(x)=x^2$')\n",
    "    plt.plot(x, raaklijn(x), 'r-',label='raaklijn, met rico $\\dfrac{df}{dx}|_{x=a}$')\n",
    "    plt.scatter(xp,f(xp)-1,facecolor='red', s=5*10**3,\n",
    "           marker=r\"$df/dx= {} $\".format(dfdx(xp)))\n",
    "    plt.xlim(-2,2)\n",
    "    plt.ylim(-2,4)\n",
    "    plt.legend()\n",
    "    plt.xlabel('x')\n",
    "    plt.show()\n",
    "\n",
    "\n",
    "interact(afgeleide, xp=FloatSlider(min=-2, max=2, step=0.1, value=1, description='x', style=style, layout=slider_layout));"
   ]
  },
  {
   "cell_type": "markdown",
   "metadata": {},
   "source": [
    "We stellen vast dat de raaklijn, met $\\dfrac{df}{dx}\\bigg\\rvert_{x=a}$ als richtingscoëfficiënt, de functie $f(x)$ goed benadert rond het punt $x=a$. De raaklijn wordt dan ook de *beste lineaire benadering* van $f(x)$ in het punt $x=a$ genoemd.\n",
    "\n",
    "We voelen ons hierdoor gesterkt de afgeleide van een nieuwe interpretatie te voorzien. Wanneer we $f$ evalueren bij $x$, en nog een keer bij een licht verschillende waarde $x+\\Delta x$, met $\\Delta x$ klein, dan zal de afgeleide ons bij benadering vertellen hoe groot het verschil tussen deze twee functie-evaluaties, $\\Delta f$ zal zijn:\n",
    "\n",
    " \n",
    " $$\n",
    " f(x+\\Delta x) - f(x) \\equiv \\Delta f \\approx \\dfrac{d f}{d x} \\Delta x,\n",
    " $$\n",
    " \n",
    " \n",
    " Deze interpretatie wordt geïllustreerd en bevestigd in onderstaande animatie."
   ]
  },
  {
   "cell_type": "code",
   "execution_count": 3,
   "metadata": {
    "jupyter": {
     "source_hidden": true
    }
   },
   "outputs": [
    {
     "data": {
      "application/vnd.jupyter.widget-view+json": {
       "model_id": "ad0b275d79f04e44aef8e2a61f6321bc",
       "version_major": 2,
       "version_minor": 0
      },
      "text/plain": [
       "interactive(children=(FloatSlider(value=0.75, description='$x=a$', layout=Layout(width='99%'), max=1.2, min=0.…"
      ]
     },
     "metadata": {},
     "output_type": "display_data"
    }
   ],
   "source": [
    "\n",
    "\n",
    "def deltaf(xp,dx):\n",
    "\n",
    "    def f(x):\n",
    "            return x**2\n",
    "    def dfdx(x):\n",
    "        return 2*x\n",
    "    def raaklijn(x):\n",
    "            return dfdx(xp)*(x-xp)+f(xp)\n",
    "    x = np.linspace(0,2,100)\n",
    "    plt.figure(figsize=(12,10))\n",
    "    plt.subplot(111)\n",
    "    plt.plot(x, f(x), 'k',label='$f(x)=x^2$')\n",
    "    plt.plot(x, raaklijn(x), 'r-',label='raaklijn, met rico $\\dfrac{df}{dx}|_{x=a}$')\n",
    "    #plt.scatter(xp,f(xp)-1,facecolor='red', s=5*10**3,\n",
    "    #           marker=r\"$df/dx= {} $\".format(dfdx(xp)))\n",
    "\n",
    "    ymin=-0.5\n",
    "    xmax=3\n",
    "\n",
    "    plt.plot([xp,xp], [ymin,f(xp)], 'g--')\n",
    "    plt.plot([xp+dx,xp+dx], [ymin,f(xp+dx)], 'g--')\n",
    "    plt.plot([xp,xmax], [f(xp),f(xp)], 'k--')\n",
    "    plt.plot([xp+dx,xmax], [f(xp+dx),f(xp+dx)], 'k--')\n",
    "    plt.plot([xp,xmax], [f(xp),f(xp)], 'r--')\n",
    "    plt.plot([xp+dx,xmax], [dfdx(xp)*dx+f(xp),dfdx(xp)*dx+f(xp)], 'r--')\n",
    "\n",
    "    plt.scatter(xp+dx/2,ymin+0.2,facecolor='green', s=3*10**3,\n",
    "               marker=r\"$\\Delta x= {} $\".format(dx))\n",
    "\n",
    "       \n",
    "    plt.arrow(1.5,f(xp),0,dfdx(xp)*dx, head_width=0.02, head_length=0.1, color='r', length_includes_head=True)\n",
    "    plt.arrow(1.5,f(xp)+dfdx(xp)*dx,0,-dfdx(xp)*dx, head_width=0.02, head_length=0.1, color='r', length_includes_head=True)\n",
    "    plt.scatter(1.5+0.3,f(xp)+dfdx(xp)*dx/2,facecolor='red', s=2*10*10**3,\n",
    "               #marker=r\"$\\Delta f \\approx \\dfrac{df}{dx}\\Delta x = {} $\".format(dfdx(0.5)))\n",
    "                marker=r\"$\\Delta f \\approx (df/dx)\\Delta x ={} $\".format(round(dfdx(xp)*dx,2)))\n",
    "\n",
    "    \n",
    "    plt.arrow(2.3,f(xp),0,f(xp+dx)-f(xp), head_width=0.02, head_length=0.1, color='k', length_includes_head=True)\n",
    "    plt.arrow(2.3,f(xp+dx),0,-f(xp+dx)+f(xp), head_width=0.02, head_length=0.1, color='k', length_includes_head=True)\n",
    "    plt.scatter(2.65,f(xp)+dfdx(xp)*dx/2,facecolor='black', s=3*10*10**3,\n",
    "               #marker=r\"$\\Delta f \\approx \\dfrac{df}{dx}\\Delta x = {} $\".format(dfdx(0.5)))\n",
    "                marker=r\"$\\Delta f = f(x+\\Delta x) - f(x) ={} $\".format(round(f(xp+dx)-f(xp),2)))\n",
    "    \n",
    "    plt.xlim(0.5,xmax)\n",
    "    plt.ylim(ymin,3)\n",
    "    plt.legend()\n",
    "    plt.xlabel('x')\n",
    "    #plt.yaxis.tick_right()\n",
    "    plt.show()\n",
    "    \n",
    "interact(deltaf, xp=FloatSlider(min=0.7, max=1.2, step=0.05, value=0.75, description='$x=a$', style=style, layout=slider_layout), \n",
    "         dx=FloatSlider(min=0.1, max=0.4, step=0.1, value=0.3, description='$\\Delta x$', style=style, layout=slider_layout));\n",
    "    \n"
   ]
  },
  {
   "cell_type": "markdown",
   "metadata": {},
   "source": [
    "De benadering wordt exact wanneer we $\\Delta x$ infinitesimaal klein laten worden, $\\lim_{\\Delta \\rightarrow 0} \\Delta x \\equiv dx$ en $\\lim_{\\Delta \\rightarrow 0} \\Delta f = \\lim_{\\Delta \\rightarrow 0} f(x+\\Delta x) - f(x) \\equiv df$, waardoor we\n",
    "\n",
    "$$\n",
    "d f = \\dfrac{df}{dx} dx\n",
    "$$\n",
    "\n",
    "bekomen."
   ]
  },
  {
   "cell_type": "markdown",
   "metadata": {},
   "source": [
    "## De partiële afgeleide"
   ]
  },
  {
   "cell_type": "markdown",
   "metadata": {},
   "source": [
    "### De enthalpie"
   ]
  },
  {
   "cell_type": "markdown",
   "metadata": {},
   "source": [
    "In  [Les 3](./Les3Thermodynamica.ipynb) maakten we kennis met de enthalpie, $H=U+pV$, en stelden we vast dat deze toestandsfunctie afhankelijk is van de entropie, $S$, de druk $p$, en de molaantallen, $n_i$, waarmee het $i$-de soort deeltjes aanwezig is in het systeem. We kunnen dan ook schrijven dat\n",
    "\n",
    "$$\n",
    "H(S,p,n_i).\n",
    "$$\n",
    "\n",
    "Het zou nu interessant zijn te weten hoe de enthalpie van een systeem wijzigt, wanneer er een kleine wijziging in entropie, $dS$, druk, $dp$ of molaantallen, $d n_i$, optreedt.\n",
    "\n",
    "Het effect van een kleine wijziging in onafhankelijke veranderlijken op de afhankelijke veranderlijke onderzoeken, doet ons denken aan de afgeleiden uit vorige sectie. Echter, daar we in vorige sectie te maken hadden met een functie van één veranderlijke, $f(x)$, zijn dat er hier drie. We zullen het concept afgeleide dus moeten veralgemenen naar hogere dimensies."
   ]
  },
  {
   "cell_type": "markdown",
   "metadata": {},
   "source": [
    "### Afleiden bij functies van meerdere veranderlijken"
   ]
  },
  {
   "cell_type": "markdown",
   "metadata": {},
   "source": [
    "Beschouwen we hiertoe de functie\n",
    "\n",
    "$$\n",
    "f(x,y)=\\dfrac{x^2+y^2}{4}.\n",
    "$$\n",
    "\n",
    "Deze wordt weergegeven op onderstaande figuur."
   ]
  },
  {
   "cell_type": "markdown",
   "metadata": {},
   "source": [
    "<img src=\"figs/3d1.png\" alt=\"Drawing\" style=\"width: 300px;\"/>"
   ]
  },
  {
   "cell_type": "markdown",
   "metadata": {},
   "source": [
    "Stel nu dat we loodrecht op de $y$-as een vlak aanbrengen, $y=a$, dan zal $f(x,y)$ dit vlak snijden, en wel op punten die zowel op $f(x,y)$ als op $y=a$ liggen. Dit wil zeggen, punten die aan volgend stelsel vergelijkingen voldoen:\n",
    "\n",
    "$$\n",
    "\\left\\{\n",
    "  \\begin{align*}\n",
    "    f (x,y) &=\\dfrac{x^2+y^2}{4},\\\\\n",
    "    y &=a.\n",
    "  \\end{align*}\n",
    "\\right.\n",
    "$$\n",
    "\n",
    "Substitutie van de tweede in de eerste vergelijking levert,\n",
    "\n",
    "$$\n",
    "f(x,a)=\\dfrac{x^2+a^2}{4}.\n",
    "$$\n",
    "\n",
    "Omdat $a$ een constante is, is deze functie slechts afhankelijk van één veranderlijke, $x$. Het betreft opnieuw een kwadratische functie, gelijkaardig aan $f(x)=x^2$ uit vorige sectie. Dit wordt geïllustreerd in onderstaande figuur, met het vlak $y=-2$ in het grijs, en $f(x,-2)=\\dfrac{x^2+4}{4}$ in het zwart."
   ]
  },
  {
   "cell_type": "markdown",
   "metadata": {},
   "source": [
    "<img src=\"figs/3d2.png\" alt=\"Drawing\" style=\"width: 300px;\"/>"
   ]
  },
  {
   "cell_type": "markdown",
   "metadata": {},
   "source": [
    "Met de kennis uit de vorige sectie kunnen we $f(x,a)$ afleiden naar zijn enige onafhankelijke veranderlijke, $x$. Dit levert\n",
    "\n",
    "$$\n",
    "\\dfrac{d f(x,a)}{dx}=\\dfrac{1}{2}x.\n",
    "$$\n",
    "\n",
    "Uit voorgaande sectie weten we dat deze afgeleide, geëvalueerd voor een bepaalde waarde van $x=b$, de richtingscoëfficient moet zijn van de raaklijn van $f(x,a)$ in $x=b$. We geven deze raaklijn voor $x=3$ weer op onderstaande figuur, in het rood, en stellen, na moeizaam kijken, dat de richtingscoëfficient van deze raaklijn inderdaad $3/2$ bedraagt."
   ]
  },
  {
   "cell_type": "markdown",
   "metadata": {},
   "source": [
    "<img src=\"figs/3d3.png\" alt=\"Drawing\" style=\"width: 300px;\"/>"
   ]
  },
  {
   "cell_type": "markdown",
   "metadata": {},
   "source": [
    "We hebben dus een methode ontwikkelt die ons vertelt hoe sterk $f(x,y)$ reageert op een kleine verandering in $x$, wanneer $y$ vast ligt. Hiertoe beschouwen we $y$ in $f(x,y)$ tijdelijk als een constante, en nemen we de klassieke afgeleide van de resulterende functie, die nog slechts van $x$ afhangt. Deze bijzondere afgeleide verdient een nieuwe naam, *de partiële afgeleide*, en een nieuwe notatie, gegeven door:\n",
    "$$\n",
    "\\left( \\dfrac{\\partial f(x,y)}{\\partial x} \\right)_y,\n",
    "$$\n",
    "\n",
    "waar $\\big(  \\big)_y$ ons vertelt dat we tijdens het nemen van de afgeleide naar $x$, $y$ tijdelijk als een constante beschouwen. Echter, daar we bij het nemen van een partiële afgeleide telkens alle veranderlijken waar niet naar wordt afgeleid als constant beschouwen, wordt deze notatie vaak vereenvoudigd, naar:\n",
    "\n",
    "$$\n",
    "\\dfrac{\\partial f(x,y)}{\\partial x}.\n",
    "$$\n"
   ]
  },
  {
   "cell_type": "markdown",
   "metadata": {},
   "source": [
    "Natuurlijk kunnen we ook de partiële afgeleide naar $y$ nemen, terwijl we $x$ tijdelijk als een constante beschouwen, $\\dfrac{\\partial f(x,y)}{\\partial y}$."
   ]
  },
  {
   "cell_type": "markdown",
   "metadata": {},
   "source": [
    "#### Opgave"
   ]
  },
  {
   "cell_type": "markdown",
   "metadata": {},
   "source": [
    "Bereken de partiële afgeleide de functie $f(x,y)=\\dfrac{x^2+y^2}{4}$ naar $y$, en evalueer in $y=-2$ en $x=3$. "
   ]
  },
  {
   "cell_type": "markdown",
   "metadata": {},
   "source": [
    "#### Oplossing"
   ]
  },
  {
   "cell_type": "markdown",
   "metadata": {},
   "source": [
    "$\\dfrac{\\partial f(x,y)}{\\partial y} = \\dfrac{1}{2} y$, en dus $\\dfrac{\\partial f(x,y)}{\\partial y} \\bigg\\vert_{x=3,y=-2}=-1$. We voegen de raaklijn aan $f(3,y)$ in $y=-2$ toe aan de figuur, en stellen vast dat de richtingscoëfficiënt inderdaad $-1$ bedraagt."
   ]
  },
  {
   "cell_type": "markdown",
   "metadata": {},
   "source": [
    "<img src=\"figs/3d5.png\" alt=\"Drawing\" style=\"width: 300px;\"/>"
   ]
  },
  {
   "cell_type": "markdown",
   "metadata": {},
   "source": [
    "Meer formeel wordt de partiële afgeleide van een functie $f(x_1, x_2, \\dots, x_n)$ naar $x_i$, genomen in $(a_1, a_2, \\dots, a_n)$, gegeven door\n",
    "\n",
    "$$\n",
    "\\dfrac{\\partial f(x_1, x_2, \\dots, x_n)}{\\partial x_i}\\bigg\\vert_{(a_1, a_2, \\dots, a_n)}= \\lim_{\\epsilon \\rightarrow 0}\n",
    "\\dfrac{f(a_1, a_2, \\dots, a_i + \\epsilon, \\dots, a_n)-f(a_1, a_2, \\dots, a_i , \\dots, a_n)}{\\epsilon}.\n",
    "$$"
   ]
  },
  {
   "cell_type": "markdown",
   "metadata": {},
   "source": [
    "#### Opgave"
   ]
  },
  {
   "cell_type": "markdown",
   "metadata": {},
   "source": [
    "Bereken de partiële afgeleide van $f(x,y,z)= x^2 + z x +y^2$ naar $x$."
   ]
  },
  {
   "cell_type": "markdown",
   "metadata": {},
   "source": [
    "## De totale differentiaal"
   ]
  },
  {
   "cell_type": "markdown",
   "metadata": {},
   "source": [
    "We weten nu hoe sterk de functiewaarde $f(x,y)$ verandert, wanneer de waarde voor $x$ een infinitesimaal kleine sprong neemt naar $x+dx$, terwijl de andere variabele, $y$, constant blijft, en omgekeerd, wanneer $y$ een sprong naar $y+dy$ neemt, en $x$ constant blijft.\n",
    "\n",
    "We kunnen deze kennis nu eenvoudig combineren, en een uitdrukking neerschrijven die ons het verschil in functiewaarde, $df$, geeft, wanneer $f$ eerst in $(x,y)$, en dan in $(x+dx,y+dy)$ wordt geëvalueerd. Deze uitdrukking noemt men de *totale differentiaal*, en wordt voor $f(x,y)$ gegeven door\n",
    "\n",
    "$$\n",
    "df(x,y) = \\dfrac{\\partial f(x,y)}{\\partial x} dx + \\dfrac{\\partial f(x,y)}{\\partial y} dy,\n",
    "$$\n",
    "\n",
    "of meer algemeen, voor een functie $f(x_1, x_2, \\dots , x_n)$, door\n",
    "\n",
    "$$\n",
    "df(x_1, x_2, \\dots , x_n) = \\sum_{i=1}^n \\dfrac{\\partial f(x_1, x_2, \\dots , x_n)}{\\partial x_i} dx_i .\n",
    "$$"
   ]
  },
  {
   "cell_type": "markdown",
   "metadata": {},
   "source": [
    "#### Opgave"
   ]
  },
  {
   "cell_type": "markdown",
   "metadata": {},
   "source": [
    "Bereken de totale differentiaal van $f(x,y,z)= x^2 + z x +y^2$."
   ]
  },
  {
   "cell_type": "markdown",
   "metadata": {},
   "source": [
    "### De enthalpie"
   ]
  },
  {
   "cell_type": "markdown",
   "metadata": {},
   "source": [
    "In het begin van deze sectie wensten we te onderzoeken hoe een infinitesimaal kleine sprong in entropie, $S$, druk, $p$ of molaantallen, $n_i$, de enthalpie, $H(S,p,n_i)$ beïnvloedt. Dankzij de totale differentiaal gaat onze wens in vervulling.\n",
    "\n",
    "Passen we de bovenstaande uitdrukking voor de totale differentiaal toe op $H(S,p,n_i)$, dan vinden we\n",
    "\n",
    "$$\n",
    "d H = \\left( \\dfrac{\\partial H}{\\partial S} \\right)_{p,\\{ n_i \\}} dS +\\left( \\dfrac{\\partial H }{\\partial p}  \\right)_{S,\\{ n_i \\}} dp +\\sum_{i} \\left( \\dfrac{\\partial H}{\\partial n_i} \\right)_{S,p,\\{ n_j \\}_{j \\neq i}} d n_i.\n",
    "$$\n",
    "\n",
    "Stel vast dat we bij de partiële afgeleiden wel uitdrukkelijk vermelden welke variabelen we als constant beschouwen, omdat dit in de thermodynamica de norm is."
   ]
  },
  {
   "cell_type": "markdown",
   "metadata": {},
   "source": [
    "Hoewel de partiële afgeleiden in bovenstaande uitdrukking abstracte, nietszeggende begrippen lijken, kunnen we ze toch linken aan beter bekende kwantiteiten. \n",
    "\n",
    "Uit de eerste en tweede hoofdwet van de thermodynamica volgt dat voor gesloten systemen waarin reversibele processen plaatsvinden, en er enkel druk-volume-arbeid wordt geleverd, geldt dat\n",
    "\n",
    "$$\n",
    "\\begin{align}\n",
    "dU &= T dS - p dV + \\sum_i \\mu_i d n_i \\\\\n",
    "\\Leftrightarrow dU + d(pV) &= T dS - p dV + \\sum_i \\mu_i d n_i + d(pV)\\\\\n",
    "\\Leftrightarrow d(U+pV) &= T dS + V dp + \\sum_i \\mu_i d n_i \\\\\n",
    "\\Leftrightarrow dH &= T dS + V dp + \\sum_i \\mu_i d n_i \\\\\n",
    "\\end{align}\n",
    "$$\n",
    "\n",
    "daar $H \\equiv  U + pV$.\n",
    "\n"
   ]
  },
  {
   "cell_type": "markdown",
   "metadata": {},
   "source": [
    "Door dit resultaat met de totale differentiaal voor de enthalpie te vergelijken, komen we tot\n",
    "\n",
    "$$\n",
    "\\begin{align}\n",
    "\\left( \\dfrac{\\partial H}{\\partial S} \\right)_{p,\\{ n_i \\}} &= T \\\\\n",
    "\\left( \\dfrac{\\partial H }{\\partial p}  \\right)_{S,\\{ n_i \\}} &= V \\\\\n",
    "\\left( \\dfrac{\\partial H}{\\partial n_i} \\right)_{S,p,\\{ n_j \\}_{j \\neq i}} &= \\mu_i\n",
    "\\end{align}\n",
    "$$\n",
    "\n",
    "!"
   ]
  }
 ],
 "metadata": {
  "kernelspec": {
   "display_name": "Python 3",
   "language": "python",
   "name": "python3"
  },
  "language_info": {
   "codemirror_mode": {
    "name": "ipython",
    "version": 3
   },
   "file_extension": ".py",
   "mimetype": "text/x-python",
   "name": "python",
   "nbconvert_exporter": "python",
   "pygments_lexer": "ipython3",
   "version": "3.6.3"
  }
 },
 "nbformat": 4,
 "nbformat_minor": 4
}
