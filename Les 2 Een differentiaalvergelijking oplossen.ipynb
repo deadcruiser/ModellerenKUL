{
 "cells": [
  {
   "cell_type": "markdown",
   "metadata": {},
   "source": [
    "# Een differentiaalvergelijking oplossen"
   ]
  },
  {
   "cell_type": "markdown",
   "metadata": {},
   "source": [
    "In de eerste les kreeg men een differentiaalvergelijking te zien:"
   ]
  },
  {
   "cell_type": "markdown",
   "metadata": {},
   "source": [
    "$$ \\dfrac{dx}{dt}=-\\lambda x $$"
   ]
  },
  {
   "cell_type": "markdown",
   "metadata": {},
   "source": [
    "met $\\lambda>0$, en de initiële conditie $x(0)=2$."
   ]
  },
  {
   "cell_type": "markdown",
   "metadata": {},
   "source": [
    "In deze les trachten we deze differentiaalvergelijking numeriek op te lossen."
   ]
  },
  {
   "cell_type": "code",
   "execution_count": 1,
   "metadata": {},
   "outputs": [],
   "source": [
    "# General Purpose\n",
    "import numpy as np\n",
    "from matplotlib import pyplot as plt\n",
    "from scipy.integrate import odeint\n",
    "\n",
    "# Jupyter Specifics\n",
    "from IPython.display import HTML\n",
    "from ipywidgets.widgets import interact, IntSlider, FloatSlider, Layout\n",
    "\n",
    "%matplotlib inline\n",
    "\n",
    "style = {'description_width': '150px'}\n",
    "slider_layout = Layout(width='99%')"
   ]
  },
  {
   "cell_type": "code",
   "execution_count": 2,
   "metadata": {},
   "outputs": [],
   "source": [
    "l=2"
   ]
  },
  {
   "cell_type": "code",
   "execution_count": 3,
   "metadata": {},
   "outputs": [],
   "source": [
    "def dxdt(x,tijd):\n",
    "    dxdt=-l*x\n",
    "    return dxdt"
   ]
  },
  {
   "cell_type": "code",
   "execution_count": 4,
   "metadata": {},
   "outputs": [],
   "source": [
    "tijd = np.linspace(0, 5, 50)"
   ]
  },
  {
   "cell_type": "code",
   "execution_count": 5,
   "metadata": {},
   "outputs": [],
   "source": [
    "init=2"
   ]
  },
  {
   "cell_type": "code",
   "execution_count": 6,
   "metadata": {},
   "outputs": [],
   "source": [
    "oplossing = odeint(dxdt,init,tijd)"
   ]
  },
  {
   "cell_type": "code",
   "execution_count": 7,
   "metadata": {},
   "outputs": [
    {
     "data": {
      "image/png": "[encoded data removed]",
      "text/plain": [
       "<Figure size 432x288 with 1 Axes>"
      ]
     },
     "metadata": {
      "needs_background": "light"
     },
     "output_type": "display_data"
    }
   ],
   "source": [
    "plt.plot(tijd,oplossing)\n",
    "plt.xlabel('tijd')\n",
    "plt.ylabel('x(t)')\n",
    "plt.show()"
   ]
  },
  {
   "cell_type": "markdown",
   "metadata": {},
   "source": [
    "Pas de waarde voor $\\lambda$ aan, en bereken de oplossing opnieuw!"
   ]
  },
  {
   "cell_type": "markdown",
   "metadata": {},
   "source": [
    "<img src=\"figs/decay.png\" alt=\"Drawing\" style=\"width: 200px;\"/>"
   ]
  },
  {
   "cell_type": "code",
   "execution_count": 20,
   "metadata": {
    "jupyter": {
     "source_hidden": true
    }
   },
   "outputs": [],
   "source": [
    "def main(lm,x0n,dagen):\n",
    "\n",
    "    def dxdt(x,tijd):\n",
    "        dxdt=-lm*x\n",
    "        return dxdt\n",
    "\n",
    "    tijd = np.linspace(0, dagen, 50)\n",
    "    oplossing = odeint(dxdt, x0n, tijd)\n",
    "\n",
    "    #Graphic details\n",
    "    fig, ax = plt.subplots(figsize=(15, 10))\n",
    "\n",
    "    ax.plot(tijd, oplossing[:, 0], label='x(t)')\n",
    "\n",
    "\n",
    "\n",
    "    ax.set_xlim([0, 5])\n",
    "    ax.set_ylim([0, 2])\n",
    "    ax.set_xlabel('t')\n",
    "    ax.set_ylabel('x(t)')\n",
    "    ax.legend(loc='best')\n",
    "\n",
    "    plt.show()"
   ]
  },
  {
   "cell_type": "code",
   "execution_count": 24,
   "metadata": {
    "jupyter": {
     "source_hidden": true
    }
   },
   "outputs": [
    {
     "data": {
      "application/vnd.jupyter.widget-view+json": {
       "model_id": "fa5e504399c549ad87f17a2902e21417",
       "version_major": 2,
       "version_minor": 0
      },
      "text/plain": [
       "interactive(children=(FloatSlider(value=1.0, description='l', layout=Layout(width='99%'), max=2.0, step=0.2, s…"
      ]
     },
     "metadata": {},
     "output_type": "display_data"
    }
   ],
   "source": [
    "interact(main, x0n=FloatSlider(min=0, max=3, step=0.5, value=1, description='initiële conditie', style=style, layout=slider_layout),\n",
    "               lm=FloatSlider(min=0, max=2, step=0.2, value=1, description='l', style=style, layout=slider_layout),\n",
    "               dagen=FloatSlider(min=1, max=10, step=1, value=5, description='dagen', style=style, layout=slider_layout)\n",
    "               );"
   ]
  }
 ],
 "metadata": {
  "kernelspec": {
   "display_name": "Python 3",
   "language": "python",
   "name": "python3"
  },
  "language_info": {
   "codemirror_mode": {
    "name": "ipython",
    "version": 3
   },
   "file_extension": ".py",
   "mimetype": "text/x-python",
   "name": "python",
   "nbconvert_exporter": "python",
   "pygments_lexer": "ipython3",
   "version": "3.6.3"
  }
 },
 "nbformat": 4,
 "nbformat_minor": 4
}
