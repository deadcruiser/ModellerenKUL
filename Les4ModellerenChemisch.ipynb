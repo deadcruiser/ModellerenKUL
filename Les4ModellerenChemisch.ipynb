{
 "cells": [
  {
   "cell_type": "markdown",
   "metadata": {},
   "source": [
    "# Modelleren: Het verloop van een chemische reactie"
   ]
  },
  {
   "cell_type": "markdown",
   "metadata": {},
   "source": [
    "## Aspirine"
   ]
  },
  {
   "cell_type": "markdown",
   "metadata": {},
   "source": [
    "In een waterige oplossing wordt aspirine (acetylsalicylzuur) gehydrolyseerd tot salicylzuur en azijnzuur. Met deze reactie is een reactiesnelheidsconstante $k\\,\\left[\\text{l}\\,\\text{mol}^{-1} \\text{h}^{-1}\\right]$ geassocieerd. We wensen nu te modelleren hoe snel aspirine wordt afgebroken in waterige omgevingen in het menselijk lichaam."
   ]
  },
  {
   "cell_type": "markdown",
   "metadata": {},
   "source": [
    "<img src=\"figs/aspirineAfbraakII.png\" alt=\"Drawing\" style=\"width: 600px;\"/>"
   ]
  },
  {
   "cell_type": "markdown",
   "metadata": {},
   "source": [
    "In [Les 3](./Les3Thermodynamica.ipynb) maakten we kennis met de wet der massawerking, die een uitspraak doet over de snelheid waarmee elementaire reacties doorgaan. \n",
    "\n",
    "Beschouwen we een algemene, elementaire chemische reactie\n",
    "\n",
    "\\begin{equation}\n",
    "\\sum_{i=1}^{\\alpha} a_i A_i \\rightarrow \\sum_{j=1}^{\\beta} b_j B_j,\n",
    "\\end{equation}\n",
    "\n",
    "waar $\\alpha$ reactanten $A_i$, waarmee elk een stoichiometrische coëfficiënt $a_i$ wordt geassocieerd, omgezet worden tot $\\beta$ reactieproducten $B_j$, met stoichiometrische coëfficiënt $b_j$. \n",
    "\n",
    "Wanneer deze reactie doorgaat in een perfect gemengde oplossing, wordt de reactiesnelheid $r$ gegeven door:\n",
    "\n",
    "\\begin{alignat}{4}\n",
    "r &= &-\\frac{1}{a_1} \\frac{d[A_1]}{dt} &= -&\\frac{1}{a_2} \\frac{d[A_2]}{dt} &= \\dots &= -&\\frac{1}{a_\\beta} \\frac{d[A_\\alpha]}{dt} \\nonumber \\\\\n",
    "&= &\\frac{1}{b_1} \\frac{d[B_1]}{dt} &= &\\frac{1}{b_2} \\frac{d[B_2]}{dt} &= \\dots &= &\\frac{1}{b_\\alpha} \\frac{d[B_\\beta]}{dt} \\nonumber \\\\\n",
    "&= & k \\prod_{i=1}^{\\alpha} [A_i]^{a_{i}}, & &\n",
    "\\label{eq:reactiesnelheid}\n",
    "\\end{alignat}\n",
    "\n",
    "met de concentraties aan molecules $A_i$ en $B_j$ in de oplossing genoteerd als $[A_i]$ en $[B_j]$, en $k$ de reactiesnelheidsconstante. De laatste gelijkheid wordt *de wet der massawerking* genoemd. De term $\\prod_{i=1}^{\\alpha} [A_i]^{a_{i}}$ is gerelateerd aan de kans dat de relevante reactanten tegen elkaar botsen in de oplossing, terwijl $k$ gerelateerd is aan de kans dat deze botsing effectief ook een reactie oplevert.\n"
   ]
  },
  {
   "cell_type": "markdown",
   "metadata": {},
   "source": [
    "#### Opgave"
   ]
  },
  {
   "cell_type": "markdown",
   "metadata": {},
   "source": [
    "Beschouw een perfect gemengde oplossing, van volume $V\\,[l]$, waarin zich een hoeveelheid aspirine, $[A]\\,[\\text{mol} \\, \\text{l}^{-1}]$, bevindt. Schrijf de differentiaalvergelijkingen neer die de verandering van $[A]$ door toedoen van bovenstaande hydrolyse beschrijven. Onderstel dat de wet der massawerking opgaat, dat de volumewijziging door de reacties verwaarloosbaar is ten opzichte van $V$, en dat er zo veel water aanwezig is, dat $[H_2 O]$ als constant kan worden beschouwd. "
   ]
  },
  {
   "cell_type": "markdown",
   "metadata": {},
   "source": [
    "#### Oplossing"
   ]
  },
  {
   "cell_type": "markdown",
   "metadata": {},
   "source": [
    "We vinden dat\n",
    "\n",
    "$$\n",
    "\\begin{align}\n",
    "\\dfrac{d \\left(V [A] \\right)}{d t} &= -k [A] [H_2 O] V \\\\\n",
    "\\Leftrightarrow V \\dfrac{d [A]}{d t} &= -k [A] [H_2 O] V \\\\\n",
    "\\Leftrightarrow \\dfrac{d [A]}{d t} &= -k [A] [H_2 O].\n",
    "\\end{align}\n",
    "$$\n",
    "\n",
    "Daar we de concentratie $[H_2 O]$ als constant kunnen beschouwen, hebben we geen tweede vergelijking nodig die $[H_2 O]$ beschrijft. Bovenstaande vergelijking levert dus alle informatie die we nodig hebben om de verandering van $[A]$ doorheen de tijd te modelleren. Bovendien kunnen we de vergelijking vereenvoudigen door een nieuwe constante $k_c \\equiv k [H_2 O]$ te introduceren, zodat we krijgen\n",
    "\n",
    "$$\n",
    "\\dfrac{d [A]}{d t} = -k_c [A].\n",
    "$$"
   ]
  },
  {
   "cell_type": "markdown",
   "metadata": {},
   "source": [
    "#### Opgave"
   ]
  },
  {
   "cell_type": "markdown",
   "metadata": {},
   "source": [
    "Los bovenstaande vergelijking analytisch op, met de methodes uit [Les 1](./Les1.ipynb)."
   ]
  },
  {
   "cell_type": "markdown",
   "metadata": {},
   "source": [
    "#### Oplossing"
   ]
  },
  {
   "cell_type": "markdown",
   "metadata": {},
   "source": [
    "$$\n",
    "\\begin{align}\n",
    "\\dfrac{d [A]}{d t}&=-k_c [A]\\\\\n",
    "\\Leftrightarrow \\dfrac{d [A] }{[A]}&=-k_c d t \\\\\n",
    "\\Leftrightarrow \\int \\dfrac{d [A] }{[A]}&=\\int -k_c d t\\\\\n",
    "\\Leftrightarrow \\ln([A]) &= -k_c t + c\\\\\n",
    "\\Leftrightarrow [A] &= e^{-k_c t + c} \\\\\n",
    " &= e^c e^{-k t}\\\\\n",
    " &= c^{'} e^{-k_c t}\n",
    "\\end{align}\n",
    "$$"
   ]
  },
  {
   "cell_type": "markdown",
   "metadata": {},
   "source": [
    "Stel nu dat de concentratie $[A]$ op tijdstip nul gegeven wordt door $[A](t=0)=A_0$, en combineren we met bovenstaande vergelijking, dan vinden we:"
   ]
  },
  {
   "cell_type": "markdown",
   "metadata": {},
   "source": [
    "$$\n",
    "\\begin{align}\n",
    "A_0 &= c^{'} e^{-k_c 0} \\\\\n",
    "&= c^{'}\n",
    "\\end{align}\n",
    "$$"
   ]
  },
  {
   "cell_type": "markdown",
   "metadata": {},
   "source": [
    "#### Opgave"
   ]
  },
  {
   "cell_type": "markdown",
   "metadata": {},
   "source": [
    "Controleer of $[A] = A_0 e^{-k_c t}$ inderdaad een oplossing is."
   ]
  },
  {
   "cell_type": "markdown",
   "metadata": {},
   "source": [
    "Met behulp van de programmeertaal Python kunnen we nu deze oplossing gaan uittekenen. Hiertoe importeren we eerst enkele software-bibliotheken die dit mogelijk maken. Om een blok Python code uit te voeren, klikken we in het blok, en drukken we vervolgens de toetsen shift+enter in. "
   ]
  },
  {
   "cell_type": "code",
   "execution_count": 1,
   "metadata": {},
   "outputs": [],
   "source": [
    "# General Purpose\n",
    "import numpy as np\n",
    "from matplotlib import pyplot as plt\n",
    "from scipy.integrate import odeint\n",
    "\n",
    "# Jupyter Specifics\n",
    "from IPython.display import HTML\n",
    "from ipywidgets.widgets import interact, IntSlider, FloatSlider, Layout\n",
    "\n",
    "%matplotlib inline\n",
    "\n",
    "style = {'description_width': '150px'}\n",
    "slider_layout = Layout(width='99%')"
   ]
  },
  {
   "cell_type": "markdown",
   "metadata": {},
   "source": [
    "We kunnen de oplossing uittekenen aan de hand van onderstaande code. Neem de code door, en lees de commentaren (#), om te begrijpen wat er aan de hand is."
   ]
  },
  {
   "cell_type": "code",
   "execution_count": 2,
   "metadata": {},
   "outputs": [
    {
     "data": {
      "image/png": "[encoded data removed]",
      "text/plain": [
       "<Figure size 720x504 with 1 Axes>"
      ]
     },
     "metadata": {
      "needs_background": "light"
     },
     "output_type": "display_data"
    }
   ],
   "source": [
    "A0=2                              #[mol/l]\n",
    "kc=0.05                           #[l/mol/h]\n",
    "\n",
    "def f(t):                         #we maken een functie van t waarin de oplossing zit\n",
    "    return A0 * np.exp(-kc*t)\n",
    "\n",
    "tijd = np.linspace(0,100,100)     #we maken een vector met tijdstippen, [0,1,2,3,4,...,100]\n",
    "oplossing = f(tijd)               #we passen de functie f(t) toe op elk van de tijdstippen [0,1,2,3,4,...,100]\n",
    "\n",
    "plt.figure(figsize=(10,7))\n",
    "plt.subplot(211)\n",
    "plt.plot(tijd, oplossing, 'k')    #we zetten de oplossing uit tegen de tijd\n",
    "plt.xlim(0,100)\n",
    "plt.ylim(0,2)\n",
    "plt.xlabel('t [h]')\n",
    "plt.ylabel('[A](t) [mol $l^{-1}$]')\n",
    "plt.show()"
   ]
  },
  {
   "cell_type": "markdown",
   "metadata": {},
   "source": [
    "#### Opgave"
   ]
  },
  {
   "cell_type": "markdown",
   "metadata": {},
   "source": [
    "Pas in vorig codeblok de waarde van de initiële conditie aan, en voer opnieuw uit."
   ]
  },
  {
   "cell_type": "markdown",
   "metadata": {},
   "source": [
    "Onderstaande animatie geeft ons de kans het effect van de initiële conditie en de reactiesnelheidsconstante te onderzoeken."
   ]
  },
  {
   "cell_type": "code",
   "execution_count": 3,
   "metadata": {
    "jupyter": {
     "source_hidden": true
    }
   },
   "outputs": [
    {
     "data": {
      "application/vnd.jupyter.widget-view+json": {
       "model_id": "8460a9be223e4cfb9f01a7e6847ad069",
       "version_major": 2,
       "version_minor": 0
      },
      "text/plain": [
       "interactive(children=(FloatSlider(value=1.0, description='$A_0$ [mol/l]', layout=Layout(width='99%'), max=3.0,…"
      ]
     },
     "metadata": {},
     "output_type": "display_data"
    }
   ],
   "source": [
    "def aspInt(A0,kc):\n",
    "\n",
    "    def f(t):\n",
    "        return A0 * np.exp(-kc*t)\n",
    "\n",
    "    tijd = np.linspace(0,100,100)\n",
    "\n",
    "    plt.figure(figsize=(10,7))\n",
    "    plt.subplot(211)\n",
    "    plt.plot(tijd, f(tijd), 'k')\n",
    "    plt.xlim(0,100)\n",
    "    plt.ylim(0,2)\n",
    "    plt.xlabel('t [h]')\n",
    "    plt.ylabel('[A](t) [mol l$^{-1}$]')\n",
    "    plt.show()\n",
    "    \n",
    "interact(aspInt, A0=FloatSlider(min=0, max=3, step=0.1, value=1, description='$A_0$ [mol/l]', style=style, layout=slider_layout),\n",
    "               kc=FloatSlider(min=0, max=0.1, step=0.01, value=0.05, description='$k_c$ [mol/l/h]', style=style, layout=slider_layout)\n",
    "               );"
   ]
  },
  {
   "cell_type": "markdown",
   "metadata": {},
   "source": [
    "#### Opgave"
   ]
  },
  {
   "cell_type": "markdown",
   "metadata": {},
   "source": [
    "Hoe berekent men op basis van $[A]$ de concentratie salicylzuur, $[S]$, en azijnzuur, $[Ac]$, in de oplossing?"
   ]
  },
  {
   "cell_type": "markdown",
   "metadata": {},
   "source": [
    "#### Opgave"
   ]
  },
  {
   "cell_type": "markdown",
   "metadata": {},
   "source": [
    "Hoe lang duurt het om de helft van de aspirine te hydrolyseren?"
   ]
  },
  {
   "cell_type": "markdown",
   "metadata": {},
   "source": [
    "## Enzymatische afbraak aspirine"
   ]
  },
  {
   "cell_type": "markdown",
   "metadata": {},
   "source": [
    "We uit bovenstaande analyse kunnen concluderen dat de aspirine traag wordt gehydrolyseerd in het lichaam. Dit spreekt klinische testen echter tegen. Dit wordt verklaard door de aanwezigheid van het enzym Acetylsalicylate deacetylase, dat de hydrolysatiereactie sterk versneld.\n",
    "\n",
    "De interactie tussen het enzym, $E$, en aspirine, $A$, wordt beschreven door onderstaande reactie."
   ]
  },
  {
   "cell_type": "markdown",
   "metadata": {},
   "source": [
    "$$\\require{mhchem}$$   \n",
    "$$\n",
    "\\ce{A + E<=>[k_f][k_r] A E ->[k_{cat}] S + E}\n",
    "$$"
   ]
  },
  {
   "cell_type": "markdown",
   "metadata": {},
   "source": [
    "Het enzyme vormt samen met de aspirine een complex, $AE$, dat vervolgens in salicylzuur, $S$, en het enzyme, $E$, kan worden omgezet."
   ]
  },
  {
   "cell_type": "markdown",
   "metadata": {},
   "source": [
    "#### Opgave"
   ]
  },
  {
   "cell_type": "markdown",
   "metadata": {},
   "source": [
    "Naast de originele hydrolysatie reactie uit vorige sectie, wordt aspirine nu ook omgezet door het enzyme. Stel de differentiaalvergelijkingen op die het mogelijk maken de concentratie salicylzuur, $[S]$, te modelleren. Onderstel opnieuw dat de waterige oplossing perfect gemengt is, dat het volume $V$ ondanks de reacties ongeveer constant blijft, en dat de reactiesnelheden door de wet der massawerking gegeven worden."
   ]
  },
  {
   "cell_type": "markdown",
   "metadata": {},
   "source": [
    "#### Oplossing"
   ]
  },
  {
   "cell_type": "markdown",
   "metadata": {},
   "source": [
    "$$\n",
    "\\begin{align}\n",
    "\\dfrac{d [A]}{d t} &= - k_c [A] - k_f [A] [E] + k_r [AE] \\\\\n",
    "\\dfrac{d [E]}{d t} &= - k_f [A] [E] + k_r [AE] + k_{cat} [AE] \\\\\n",
    "\\dfrac{d [AE]}{d t} &= k_f [A] [E] - k_r [AE] - k_{cat} [AE] \\\\\n",
    "\\dfrac{d [S]}{d t} &= k_c [A] + k_{cat} [AE]\n",
    "\\end{align}\n",
    "$$"
   ]
  },
  {
   "cell_type": "markdown",
   "metadata": {},
   "source": [
    "Om het verloop van de concentratie $[S]$ te weten te komen, is het nodig bovenstaand stelsel vergelijkingen op te lossen. We stellen vast dat het een hele opgave wordt bovenstaand stelsel van een analytische oplossing te voorzien. In het algemeen is het zo dat het onmogelijk is een analytische oplossing te vinden voor de meeste niet-lineaire differentiaalvergelijkingen. Om toch een idee te krijgen van het verloop van $[S]$, kunnen we met behulp van een computer een numerieke benadering van de ongekende analytische oplossing berekenen. We voeren hiertoe onderstaand blok code uit."
   ]
  },
  {
   "cell_type": "code",
   "execution_count": 4,
   "metadata": {},
   "outputs": [
    {
     "data": {
      "image/png": "[encoded data removed]",
      "text/plain": [
       "<Figure size 720x504 with 2 Axes>"
      ]
     },
     "metadata": {
      "needs_background": "light"
     },
     "output_type": "display_data"
    }
   ],
   "source": [
    "a0=2                           #ingeven initiële condities\n",
    "e0=0.01\n",
    "ae0=0\n",
    "s0=0\n",
    "init=[a0,e0,ae0,s0]            #initiële condities in vector formaat\n",
    "\n",
    "                               #ingeven reactiesnelheidsconstanten\n",
    "kc=0.05                        #[l/mol/h]\n",
    "kf=62                          #[l/mol/h]\n",
    "kr=0.1                         #[1/h]\n",
    "kcat=110                       #[1/h]\n",
    "\n",
    "\n",
    "def dXdt(x,tijd):              #functie die de afgeleiden berekend voor de toestanden x=[a,e,ae,s] op een tijdstip tijd\n",
    "    a,e,ae,s = x\n",
    "    dxdt=[-kc*a-kf*a*e+kr*ae,  #de rechterleden van het stelsel differentiaalvergelijkingen\n",
    "         -kf*a*e+kr*ae+kcat*ae,\n",
    "         kf*a*e-kr*ae-kcat*ae,\n",
    "         kcat*ae+kc*a]\n",
    "    return dxdt\n",
    "\n",
    "\n",
    "\n",
    "tijd = np.linspace(0,10,100)   #tijdstippen waarop we de toestanden willen berekenen, tijd=[0,0.1,0.2,...,10]\n",
    "\n",
    "oplossing = odeint(dXdt,init,tijd) #de functie odeint berekent de numerieke benadering van de analytische oplossing, \n",
    "                                   #voor initiële condities init, op de tijdstippen tijd.\n",
    "\n",
    "\n",
    "plt.figure(figsize=(10,7))     #de oplossing uittekenen\n",
    "plt.subplot(2,1,1)\n",
    "plt.plot(tijd, oplossing[:,0],'g-',label='[A]')\n",
    "plt.plot(tijd, oplossing[:,3],'r-',label='[S]')\n",
    "plt.legend()\n",
    "plt.xlim(0,10)\n",
    "plt.xlabel('t [h]')\n",
    "plt.subplot(2,1,2)\n",
    "plt.plot(tijd, oplossing[:,1],label='[E]')\n",
    "plt.plot(tijd, oplossing[:,2],label='[AE]')\n",
    "plt.legend()\n",
    "plt.xlim(0,10)\n",
    "plt.xlabel('t [h]')\n",
    "plt.show()"
   ]
  },
  {
   "cell_type": "markdown",
   "metadata": {},
   "source": [
    "#### Opgave"
   ]
  },
  {
   "cell_type": "markdown",
   "metadata": {},
   "source": [
    "Bestudeer bovenstaande figuur. Hoe lang duurt het nu om de helft van de aspirine af te breken?"
   ]
  },
  {
   "cell_type": "markdown",
   "metadata": {},
   "source": [
    "Onderstaande animatie laat ons toe de invloed van de initiële hoeveelheid $[A](t=0)$ en $[E](t=0)$ te onderzoeken."
   ]
  },
  {
   "cell_type": "code",
   "execution_count": 5,
   "metadata": {
    "jupyter": {
     "source_hidden": true
    }
   },
   "outputs": [
    {
     "data": {
      "application/vnd.jupyter.widget-view+json": {
       "model_id": "72415f13eb384bd095d46d58379eb601",
       "version_major": 2,
       "version_minor": 0
      },
      "text/plain": [
       "interactive(children=(FloatSlider(value=2.0, description='$A_0$ [mol/l]', layout=Layout(width='99%'), max=3.0,…"
      ]
     },
     "metadata": {},
     "output_type": "display_data"
    }
   ],
   "source": [
    "def enzyme(a0,e0):          \n",
    "    ae0=0\n",
    "    s0=0\n",
    "    init=[a0,e0,ae0,s0]            #initiële condities in vector formaat\n",
    "\n",
    "                                   #ingeven reactiesnelheidsconstanten\n",
    "    kc=0.05                         #[l/mol/h]\n",
    "    kf=62                          #[l/mol/h]\n",
    "    kr=0.1                         #[1/h]\n",
    "    kcat=110                       #[1/h]\n",
    "\n",
    "\n",
    "    def dXdt(x,tijd):              #functie die de afgeleiden berekend voor de toestanden x=[a,e,ae,s] op een tijdstip tijd\n",
    "        a,e,ae,s = x\n",
    "        dxdt=[-kc*a-kf*a*e+kr*ae,  #de rechterleden van het stelsel differentiaalvergelijkingen\n",
    "             -kf*a*e+kr*ae+kcat*ae,\n",
    "             kf*a*e-kr*ae-kcat*ae,\n",
    "             kcat*ae+kc*a]\n",
    "        return dxdt\n",
    "\n",
    "\n",
    "\n",
    "    tijd = np.linspace(0,10,100)   #tijdstippen waarop we de toestanden willen berekenen, tijd=[0,0.1,0.2,...,10]\n",
    "\n",
    "    oplossing = odeint(dXdt,init,tijd) #de functie odeint berekent de numerieke benadering van de analytische oplossing, \n",
    "                                       #voor initiële condities init, op de tijdstippen tijd.\n",
    "\n",
    "\n",
    "    plt.figure(figsize=(10,7))     #de oplossing uittekenen\n",
    "    plt.subplot(2,1,1)\n",
    "    plt.plot(tijd, oplossing[:,0],'g-',label='[A]')\n",
    "    plt.plot(tijd, oplossing[:,3],'r-',label='[S]')\n",
    "    plt.legend()\n",
    "    plt.xlim(0,10)\n",
    "    plt.ylim(0,3)\n",
    "    plt.xlabel('t [h]')\n",
    "    plt.subplot(2,1,2)\n",
    "    plt.plot(tijd, oplossing[:,1],label='[E]')\n",
    "    plt.plot(tijd, oplossing[:,2],label='[AE]')\n",
    "    plt.legend()\n",
    "    plt.xlim(0,10)\n",
    "    plt.ylim(0,0.05)\n",
    "    plt.xlabel('t [h]')\n",
    "    plt.show()\n",
    "    \n",
    "interact(enzyme, a0=FloatSlider(min=0, max=3, step=0.1, value=2, description='$A_0$ [mol/l]', style=style, layout=slider_layout),\n",
    "               e0=FloatSlider(min=0, max=0.05, step=0.005, value=0.01, description='$E_0$ [mol/l]', style=style, layout=slider_layout)\n",
    "               );"
   ]
  }
 ],
 "metadata": {
  "kernelspec": {
   "display_name": "Python 3",
   "language": "python",
   "name": "python3"
  },
  "language_info": {
   "codemirror_mode": {
    "name": "ipython",
    "version": 3
   },
   "file_extension": ".py",
   "mimetype": "text/x-python",
   "name": "python",
   "nbconvert_exporter": "python",
   "pygments_lexer": "ipython3",
   "version": "3.6.3"
  }
 },
 "nbformat": 4,
 "nbformat_minor": 4
}
